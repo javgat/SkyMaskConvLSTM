{
 "cells": [
  {
   "cell_type": "code",
   "execution_count": 1,
   "id": "6ec2d0ff",
   "metadata": {},
   "outputs": [],
   "source": [
    "import numpy as np\n",
    "import matplotlib.pyplot as plt\n",
    "import os\n",
    "import time\n",
    "import datetime\n",
    "import itertools\n",
    "import h5py"
   ]
  },
  {
   "cell_type": "code",
   "execution_count": 2,
   "id": "b7283a75",
   "metadata": {},
   "outputs": [],
   "source": [
    "def reformat(log, pred):\n",
    "    #concatenate the log (t15 - t0) and pred images (t1 - t15)\n",
    "    #shape [example, image, height, width, channels]\n",
    "    output = np.concatenate((log, pred), axis=1) #concat along the image axis\n",
    "    H = output.shape[2]\n",
    "    W = output.shape[3]\n",
    "    C = output.shape[4]\n",
    "    output = np.reshape(output, [-1, H, W, C])\n",
    "    return output\n",
    "    "
   ]
  },
  {
   "cell_type": "code",
   "execution_count": 3,
   "id": "918aaffe",
   "metadata": {},
   "outputs": [
    {
     "name": "stdout",
     "output_type": "stream",
     "text": [
      "Train data:  (18, 16, 64, 64, 3)\n",
      "Train data refomatted:  (558, 64, 64, 3)\n",
      "Val data:  (2, 16, 64, 64, 3)\n",
      "Val data refomatted:  (62, 64, 64, 3)\n"
     ]
    }
   ],
   "source": [
    "# define the data location and load data\n",
    "# cwd = os.getcwd()\n",
    "\n",
    "data_folder = '/scratch/groups/abrandt/GAN_project/data/benchmark_models_initial_testing'\n",
    "image_log_train = np.load(os.path.join(data_folder,'images_log_train_model_test.npy'))\n",
    "image_pred_train = np.load(os.path.join(data_folder,'images_pred_train_model_test.npy'))\n",
    "print('Train data: ', image_log_train.shape)\n",
    "\n",
    "num_examples_train = image_log_train.shape[0]\n",
    "train_data = reformat(image_log_train, image_pred_train)\n",
    "del image_log_train, image_pred_train\n",
    "print('Train data refomatted: ', train_data.shape)\n",
    "\n",
    "image_log_val = np.load(os.path.join(data_folder,'images_log_val_model_test.npy'))\n",
    "image_pred_val = np.load(os.path.join(data_folder,'images_pred_val_model_test.npy'))\n",
    "print('Val data: ', image_log_val.shape)\n",
    "\n",
    "num_examples_val = image_log_val.shape[0]\n",
    "val_data = reformat(image_log_val, image_pred_val)\n",
    "print('Val data refomatted: ', val_data.shape)\n",
    "\n",
    "del image_log_val, image_pred_val"
   ]
  },
  {
   "cell_type": "code",
   "execution_count": 5,
   "id": "a952c5a9",
   "metadata": {},
   "outputs": [
    {
     "name": "stdout",
     "output_type": "stream",
     "text": [
      "Num_examples_train:  18\n",
      "Train idx:  [  0  31  62  93 124 155 186 217 248 279 310 341 372 403 434 465 496 527]\n",
      "Num_examples_val:  2\n",
      "Val idx:  [ 0 31]\n"
     ]
    }
   ],
   "source": [
    "#save to HDF5 file foramat\n",
    "num_images = 16+15\n",
    "\n",
    "hf =  h5py.File(\"GPT_benchmark.hdf5\", \"w\") #create file\n",
    "hf.create_dataset('train_data', data=train_data)\n",
    "\n",
    "print('Num_examples_train: ', num_examples_train)\n",
    "train_idx = np.arange(0, num_examples_train * num_images, num_images) #start index for each example\n",
    "print('Train idx: ', train_idx)\n",
    "hf.create_dataset('train_idx', data=train_idx)\n",
    "\n",
    "hf.create_dataset('test_data', data=val_data) #NOTE: this is actually the validation data (only do this for the benchamark since no test)\n",
    "\n",
    "print('Num_examples_val: ', num_examples_val)\n",
    "val_idx = np.arange(0, num_examples_val * num_images, num_images) #start index for each example\n",
    "print('Val idx: ', val_idx)\n",
    "hf.create_dataset('test_idx', data=val_idx)\n",
    "\n",
    "hf.close()"
   ]
  },
  {
   "cell_type": "code",
   "execution_count": null,
   "id": "af686dbd",
   "metadata": {},
   "outputs": [],
   "source": []
  }
 ],
 "metadata": {
  "kernelspec": {
   "display_name": "Python 3",
   "language": "python",
   "name": "python3"
  },
  "language_info": {
   "codemirror_mode": {
    "name": "ipython",
    "version": 3
   },
   "file_extension": ".py",
   "mimetype": "text/x-python",
   "name": "python",
   "nbconvert_exporter": "python",
   "pygments_lexer": "ipython3",
   "version": "3.9.0"
  }
 },
 "nbformat": 4,
 "nbformat_minor": 5
}
